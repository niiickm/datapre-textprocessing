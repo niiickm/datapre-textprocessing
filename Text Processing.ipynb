{
 "cells": [
  {
   "cell_type": "markdown",
   "metadata": {},
   "source": [
    "# Text Processing\n",
    "\n",
    "News sources: (Date collected: 04-05-2021)\n",
    "    - Inquirer\n",
    "    - Manila Bulletin\n",
    "    - The Guardian"
   ]
  },
  {
   "cell_type": "markdown",
   "metadata": {},
   "source": [
    "## Imports"
   ]
  },
  {
   "cell_type": "code",
   "execution_count": 3,
   "metadata": {},
   "outputs": [],
   "source": [
    "import os\n",
    "import json\n",
    "import pandas as pd\n",
    "import numpy as np"
   ]
  },
  {
   "cell_type": "markdown",
   "metadata": {},
   "source": [
    "## Combining all news articles into one json\n",
    "\n",
    "The files were taken from the previous homework, scraping"
   ]
  },
  {
   "cell_type": "code",
   "execution_count": 11,
   "metadata": {},
   "outputs": [
    {
     "name": "stdout",
     "output_type": "stream",
     "text": [
      "News articles from Inquirer:  53\n",
      "News articles from Manila Bulletin:  27\n",
      "News articles from The Guardian:  49\n",
      "Total number of news articles:  129\n"
     ]
    }
   ],
   "source": [
    "articles = []\n",
    "\n",
    "read = []\n",
    "\n",
    "with open('inquirer_news.json') as f:\n",
    "    read = json.load(f)\n",
    "    print(\"News articles from Inquirer: \", len(read))\n",
    "\n",
    "articles.extend(read)\n",
    "\n",
    "with open('mb_news.json') as f:\n",
    "    read = json.load(f)\n",
    "    print(\"News articles from Manila Bulletin: \", len(read))\n",
    "\n",
    "\n",
    "articles.extend(read)\n",
    "\n",
    "with open('guardian_news.json') as f:\n",
    "    read = json.load(f)\n",
    "    print(\"News articles from The Guardian: \", len(read))\n",
    "\n",
    "articles.extend(read)\n",
    "print(\"Total number of news articles: \", len(articles))"
   ]
  },
  {
   "cell_type": "code",
   "execution_count": null,
   "metadata": {},
   "outputs": [],
   "source": []
  }
 ],
 "metadata": {
  "kernelspec": {
   "display_name": "Python 3",
   "language": "python",
   "name": "python3"
  },
  "language_info": {
   "codemirror_mode": {
    "name": "ipython",
    "version": 3
   },
   "file_extension": ".py",
   "mimetype": "text/x-python",
   "name": "python",
   "nbconvert_exporter": "python",
   "pygments_lexer": "ipython3",
   "version": "3.7.4"
  }
 },
 "nbformat": 4,
 "nbformat_minor": 2
}
